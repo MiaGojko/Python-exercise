{
  "nbformat": 4,
  "nbformat_minor": 0,
  "metadata": {
    "colab": {
      "name": "1_zadatak.ipynb",
      "provenance": [],
      "collapsed_sections": [],
      "toc_visible": true
    },
    "kernelspec": {
      "name": "python3",
      "display_name": "Python 3"
    },
    "language_info": {
      "name": "python"
    }
  },
  "cells": [
    {
      "cell_type": "markdown",
      "metadata": {
        "id": "HeffwMksopB6"
      },
      "source": [
        "# **1. zadatak**\n",
        "\n",
        "Možemo primijetiti da redci vezani za DataType THDR imaju samo 4 stupca podataka, dok redci za DataTypove TITM i PCTL imaju 5 stupaca podataka. Također, svaki DataType ima posebna imena za svaki svoj stupac. \n",
        "\n",
        "U ovom zadatku rastavit ćemo veliki csv u tri manja csv-a s obzirom na DataType."
      ]
    },
    {
      "cell_type": "markdown",
      "metadata": {
        "id": "XkdPpRU4wKfe"
      },
      "source": [
        "Učitavamo pandas library kako bismo mogli započeti zadatak."
      ]
    },
    {
      "cell_type": "code",
      "metadata": {
        "id": "OAT2wz8ba2DO"
      },
      "source": [
        "import pandas as pd"
      ],
      "execution_count": null,
      "outputs": []
    },
    {
      "cell_type": "markdown",
      "metadata": {
        "id": "B8-3eqTIwTII"
      },
      "source": [
        "Učitavamo polaznu tablicu te pridružujemo imena stupaca u numeričkom obliku kako bismo lakše upravljali tablicom.\n"
      ]
    },
    {
      "cell_type": "code",
      "metadata": {
        "id": "Ueu6KncQ4Vdq"
      },
      "source": [
        "with open(\"TRANSACTIONS_HISTORY.csv\", 'r') as trans:\n",
        "    col_count = [ len(l.split(\"|\")) for l in trans.readlines() ]\n",
        "\n",
        "column_names = [i for i in range(0, max(col_count))]\n",
        "\n",
        "th = pd.read_csv(\"TRANSACTIONS_HISTORY.csv\", header=None, delimiter=\"|\", names=column_names)"
      ],
      "execution_count": null,
      "outputs": []
    },
    {
      "cell_type": "markdown",
      "metadata": {
        "id": "0xPq6SYlwSJM"
      },
      "source": [
        "Pregledat ćemo početnu tablicu tj. rezultat th:"
      ]
    },
    {
      "cell_type": "code",
      "metadata": {
        "colab": {
          "base_uri": "https://localhost:8080/",
          "height": 414
        },
        "id": "tgzRztunwlLX",
        "outputId": "b9b8af23-c617-4dfa-f9e8-05516c37a1c9"
      },
      "source": [
        "th"
      ],
      "execution_count": null,
      "outputs": [
        {
          "output_type": "execute_result",
          "data": {
            "text/html": [
              "<div>\n",
              "<style scoped>\n",
              "    .dataframe tbody tr th:only-of-type {\n",
              "        vertical-align: middle;\n",
              "    }\n",
              "\n",
              "    .dataframe tbody tr th {\n",
              "        vertical-align: top;\n",
              "    }\n",
              "\n",
              "    .dataframe thead th {\n",
              "        text-align: right;\n",
              "    }\n",
              "</style>\n",
              "<table border=\"1\" class=\"dataframe\">\n",
              "  <thead>\n",
              "    <tr style=\"text-align: right;\">\n",
              "      <th></th>\n",
              "      <th>0</th>\n",
              "      <th>1</th>\n",
              "      <th>2</th>\n",
              "      <th>3</th>\n",
              "      <th>4</th>\n",
              "    </tr>\n",
              "  </thead>\n",
              "  <tbody>\n",
              "    <tr>\n",
              "      <th>0</th>\n",
              "      <td>THDR</td>\n",
              "      <td>CA-2017-152156</td>\n",
              "      <td>11/08/2017</td>\n",
              "      <td>993.9</td>\n",
              "      <td>NaN</td>\n",
              "    </tr>\n",
              "    <tr>\n",
              "      <th>1</th>\n",
              "      <td>THDR</td>\n",
              "      <td>CA-2017-138688</td>\n",
              "      <td>06/12/2017</td>\n",
              "      <td>14.62</td>\n",
              "      <td>NaN</td>\n",
              "    </tr>\n",
              "    <tr>\n",
              "      <th>2</th>\n",
              "      <td>THDR</td>\n",
              "      <td>US-2016-108966</td>\n",
              "      <td>10/11/2016</td>\n",
              "      <td>979.9455</td>\n",
              "      <td>NaN</td>\n",
              "    </tr>\n",
              "    <tr>\n",
              "      <th>3</th>\n",
              "      <td>THDR</td>\n",
              "      <td>CA-2015-115812</td>\n",
              "      <td>06/09/2015</td>\n",
              "      <td>3714.304</td>\n",
              "      <td>NaN</td>\n",
              "    </tr>\n",
              "    <tr>\n",
              "      <th>4</th>\n",
              "      <td>THDR</td>\n",
              "      <td>CA-2018-114412</td>\n",
              "      <td>15/04/2018</td>\n",
              "      <td>15.552</td>\n",
              "      <td>NaN</td>\n",
              "    </tr>\n",
              "    <tr>\n",
              "      <th>...</th>\n",
              "      <td>...</td>\n",
              "      <td>...</td>\n",
              "      <td>...</td>\n",
              "      <td>...</td>\n",
              "      <td>...</td>\n",
              "    </tr>\n",
              "    <tr>\n",
              "      <th>16616</th>\n",
              "      <td>PCTL</td>\n",
              "      <td>TEC-AC-10002380</td>\n",
              "      <td>Technology</td>\n",
              "      <td>Accessories</td>\n",
              "      <td>Sony 8GB Class 10 Micro SDHC R40 Memory Card</td>\n",
              "    </tr>\n",
              "    <tr>\n",
              "      <th>16617</th>\n",
              "      <td>PCTL</td>\n",
              "      <td>TEC-PH-10002817</td>\n",
              "      <td>Technology</td>\n",
              "      <td>Phones</td>\n",
              "      <td>RCA ViSYS 25425RE1 Corded phone</td>\n",
              "    </tr>\n",
              "    <tr>\n",
              "      <th>16618</th>\n",
              "      <td>PCTL</td>\n",
              "      <td>TEC-MA-10003589</td>\n",
              "      <td>Technology</td>\n",
              "      <td>Machines</td>\n",
              "      <td>Cisco 8961 IP Phone Charcoal</td>\n",
              "    </tr>\n",
              "    <tr>\n",
              "      <th>16619</th>\n",
              "      <td>PCTL</td>\n",
              "      <td>OFF-AP-10003099</td>\n",
              "      <td>Office Supplies</td>\n",
              "      <td>Appliances</td>\n",
              "      <td>Eureka Hand Vacuum, Bagless</td>\n",
              "    </tr>\n",
              "    <tr>\n",
              "      <th>16620</th>\n",
              "      <td>PCTL</td>\n",
              "      <td>TEC-PH-10002645</td>\n",
              "      <td>Technology</td>\n",
              "      <td>Phones</td>\n",
              "      <td>LG G2</td>\n",
              "    </tr>\n",
              "  </tbody>\n",
              "</table>\n",
              "<p>16621 rows × 5 columns</p>\n",
              "</div>"
            ],
            "text/plain": [
              "          0  ...                                             4\n",
              "0      THDR  ...                                           NaN\n",
              "1      THDR  ...                                           NaN\n",
              "2      THDR  ...                                           NaN\n",
              "3      THDR  ...                                           NaN\n",
              "4      THDR  ...                                           NaN\n",
              "...     ...  ...                                           ...\n",
              "16616  PCTL  ...  Sony 8GB Class 10 Micro SDHC R40 Memory Card\n",
              "16617  PCTL  ...               RCA ViSYS 25425RE1 Corded phone\n",
              "16618  PCTL  ...                  Cisco 8961 IP Phone Charcoal\n",
              "16619  PCTL  ...                   Eureka Hand Vacuum, Bagless\n",
              "16620  PCTL  ...                                         LG G2\n",
              "\n",
              "[16621 rows x 5 columns]"
            ]
          },
          "metadata": {},
          "execution_count": 201
        }
      ]
    },
    {
      "cell_type": "markdown",
      "metadata": {
        "id": "j7uM_mc3wq5a"
      },
      "source": [
        "Možemo uočiti da ovakvim učitavanjem u 4. stupcu dobivamo na nekim pozicijama NaN vrijednosti, no to nam trenutno ne radi problem za ostatak zadatka."
      ]
    },
    {
      "cell_type": "markdown",
      "metadata": {
        "id": "j53MguL1w0hQ"
      },
      "source": [
        "Sljedećom naredbom rastavljamo početnu tablicu s obzirom na podatke u 1. stupcu.\n"
      ]
    },
    {
      "cell_type": "code",
      "metadata": {
        "id": "hm6p97JgK9EB"
      },
      "source": [
        "K = {k: table for k, table in th.groupby(0)}"
      ],
      "execution_count": null,
      "outputs": []
    },
    {
      "cell_type": "markdown",
      "metadata": {
        "id": "Ykhwp4-axGrR"
      },
      "source": [
        "Pregledat ćemo rezultat K:"
      ]
    },
    {
      "cell_type": "code",
      "metadata": {
        "colab": {
          "base_uri": "https://localhost:8080/"
        },
        "id": "E-1Gn6EyxJaR",
        "outputId": "a9ed130e-14cd-44b1-e2c4-7845da03fccf"
      },
      "source": [
        "K"
      ],
      "execution_count": null,
      "outputs": [
        {
          "output_type": "execute_result",
          "data": {
            "text/plain": [
              "{' Report Binders, Letter Size':                                   0       1    2    3    4\n",
              " 8026    Report Binders, Letter Size  12.957  NaN  NaN  NaN\n",
              " 8249    Report Binders, Letter Size   1.234  NaN  NaN  NaN\n",
              " 9766    Report Binders, Letter Size   5.553  NaN  NaN  NaN\n",
              " 10149   Report Binders, Letter Size   43.19  NaN  NaN  NaN\n",
              " 16235   Report Binders, Letter Size     NaN  NaN  NaN  NaN,\n",
              " 'PCTL':           0  ...                                                  4\n",
              " 14726  PCTL  ...                  Bush Somerset Collection Bookcase\n",
              " 14727  PCTL  ...  Hon Deluxe Fabric Upholstered Stacking Chairs,...\n",
              " 14728  PCTL  ...  Self-Adhesive Address Labels for Typewriters b...\n",
              " 14729  PCTL  ...      Bretford CR4500 Series Slim Rectangular Table\n",
              " 14730  PCTL  ...                     Eldon Fold 'N Roll Cart System\n",
              " ...     ...  ...                                                ...\n",
              " 16616  PCTL  ...       Sony 8GB Class 10 Micro SDHC R40 Memory Card\n",
              " 16617  PCTL  ...                    RCA ViSYS 25425RE1 Corded phone\n",
              " 16618  PCTL  ...                       Cisco 8961 IP Phone Charcoal\n",
              " 16619  PCTL  ...                        Eureka Hand Vacuum, Bagless\n",
              " 16620  PCTL  ...                                              LG G2\n",
              " \n",
              " [1894 rows x 5 columns],\n",
              " 'THDR':          0               1           2         3    4\n",
              " 0     THDR  CA-2017-152156  11/08/2017     993.9  NaN\n",
              " 1     THDR  CA-2017-138688  06/12/2017     14.62  NaN\n",
              " 2     THDR  US-2016-108966  10/11/2016  979.9455  NaN\n",
              " 3     THDR  CA-2015-115812  06/09/2015  3714.304  NaN\n",
              " 4     THDR  CA-2018-114412  15/04/2018    15.552  NaN\n",
              " ...    ...             ...         ...       ...  ...\n",
              " 4917  THDR  US-2015-114377  11/05/2015     149.9  NaN\n",
              " 4918  THDR  CA-2018-144491  27/03/2018  1875.128  NaN\n",
              " 4919  THDR  CA-2015-127166  21/05/2015   186.908  NaN\n",
              " 4920  THDR  CA-2017-125920  21/05/2017     3.798  NaN\n",
              " 4921  THDR  CA-2016-128608  01/12/2016   282.316  NaN\n",
              " \n",
              " [4922 rows x 5 columns],\n",
              " 'TITM':           0  ...         4\n",
              " 4922   TITM  ...    261.96\n",
              " 4923   TITM  ...    731.94\n",
              " 4924   TITM  ...     14.62\n",
              " 4925   TITM  ...  957.5775\n",
              " 4926   TITM  ...    22.368\n",
              " ...     ...  ...       ...\n",
              " 14721  TITM  ...     3.798\n",
              " 14722  TITM  ...    10.368\n",
              " 14723  TITM  ...   235.188\n",
              " 14724  TITM  ...    26.376\n",
              " 14725  TITM  ...    10.384\n",
              " \n",
              " [9800 rows x 5 columns]}"
            ]
          },
          "metadata": {},
          "execution_count": 203
        }
      ]
    },
    {
      "cell_type": "markdown",
      "metadata": {
        "id": "tJOqzatJxVlj"
      },
      "source": [
        "Imenujemo novu tablicu s obzirom na podatak THDR iz 1. stupca polazne tablice.\n",
        "S obzirom da će posljednji stupac imati vrijednosti NaN, uklonit ćemo ga jer nam nije potreban za konačnu tablicu.\n",
        "Svakom stupcu pridružit ćemo ispravna imena stupaca, pohraniti kao csv dokument te potom ispisati."
      ]
    },
    {
      "cell_type": "code",
      "metadata": {
        "id": "fGf84TNrLszS"
      },
      "source": [
        "THDR= K['THDR'].iloc[: , :-1]\n",
        "THDR.to_csv('THDR.csv', sep='|', header=[\"Datatype\", \"TransactionID\", \"OrderDate\", \"TotalPrice\"], index=False, )\n",
        "THDR1 = pd.read_csv(\"THDR.csv\",  sep='|')"
      ],
      "execution_count": null,
      "outputs": []
    },
    {
      "cell_type": "markdown",
      "metadata": {
        "id": "PNXyDDZyxebe"
      },
      "source": [
        "Pregledat ćemo rezultat THDR1:"
      ]
    },
    {
      "cell_type": "code",
      "metadata": {
        "colab": {
          "base_uri": "https://localhost:8080/",
          "height": 414
        },
        "id": "EHSHZ37KxhTo",
        "outputId": "b3044c4f-c370-4448-cbc7-089840f6b42d"
      },
      "source": [
        "THDR1"
      ],
      "execution_count": null,
      "outputs": [
        {
          "output_type": "execute_result",
          "data": {
            "text/html": [
              "<div>\n",
              "<style scoped>\n",
              "    .dataframe tbody tr th:only-of-type {\n",
              "        vertical-align: middle;\n",
              "    }\n",
              "\n",
              "    .dataframe tbody tr th {\n",
              "        vertical-align: top;\n",
              "    }\n",
              "\n",
              "    .dataframe thead th {\n",
              "        text-align: right;\n",
              "    }\n",
              "</style>\n",
              "<table border=\"1\" class=\"dataframe\">\n",
              "  <thead>\n",
              "    <tr style=\"text-align: right;\">\n",
              "      <th></th>\n",
              "      <th>Datatype</th>\n",
              "      <th>TransactionID</th>\n",
              "      <th>OrderDate</th>\n",
              "      <th>TotalPrice</th>\n",
              "    </tr>\n",
              "  </thead>\n",
              "  <tbody>\n",
              "    <tr>\n",
              "      <th>0</th>\n",
              "      <td>THDR</td>\n",
              "      <td>CA-2017-152156</td>\n",
              "      <td>11/08/2017</td>\n",
              "      <td>993.9000</td>\n",
              "    </tr>\n",
              "    <tr>\n",
              "      <th>1</th>\n",
              "      <td>THDR</td>\n",
              "      <td>CA-2017-138688</td>\n",
              "      <td>06/12/2017</td>\n",
              "      <td>14.6200</td>\n",
              "    </tr>\n",
              "    <tr>\n",
              "      <th>2</th>\n",
              "      <td>THDR</td>\n",
              "      <td>US-2016-108966</td>\n",
              "      <td>10/11/2016</td>\n",
              "      <td>979.9455</td>\n",
              "    </tr>\n",
              "    <tr>\n",
              "      <th>3</th>\n",
              "      <td>THDR</td>\n",
              "      <td>CA-2015-115812</td>\n",
              "      <td>06/09/2015</td>\n",
              "      <td>3714.3040</td>\n",
              "    </tr>\n",
              "    <tr>\n",
              "      <th>4</th>\n",
              "      <td>THDR</td>\n",
              "      <td>CA-2018-114412</td>\n",
              "      <td>15/04/2018</td>\n",
              "      <td>15.5520</td>\n",
              "    </tr>\n",
              "    <tr>\n",
              "      <th>...</th>\n",
              "      <td>...</td>\n",
              "      <td>...</td>\n",
              "      <td>...</td>\n",
              "      <td>...</td>\n",
              "    </tr>\n",
              "    <tr>\n",
              "      <th>4917</th>\n",
              "      <td>THDR</td>\n",
              "      <td>US-2015-114377</td>\n",
              "      <td>11/05/2015</td>\n",
              "      <td>149.9000</td>\n",
              "    </tr>\n",
              "    <tr>\n",
              "      <th>4918</th>\n",
              "      <td>THDR</td>\n",
              "      <td>CA-2018-144491</td>\n",
              "      <td>27/03/2018</td>\n",
              "      <td>1875.1280</td>\n",
              "    </tr>\n",
              "    <tr>\n",
              "      <th>4919</th>\n",
              "      <td>THDR</td>\n",
              "      <td>CA-2015-127166</td>\n",
              "      <td>21/05/2015</td>\n",
              "      <td>186.9080</td>\n",
              "    </tr>\n",
              "    <tr>\n",
              "      <th>4920</th>\n",
              "      <td>THDR</td>\n",
              "      <td>CA-2017-125920</td>\n",
              "      <td>21/05/2017</td>\n",
              "      <td>3.7980</td>\n",
              "    </tr>\n",
              "    <tr>\n",
              "      <th>4921</th>\n",
              "      <td>THDR</td>\n",
              "      <td>CA-2016-128608</td>\n",
              "      <td>01/12/2016</td>\n",
              "      <td>282.3160</td>\n",
              "    </tr>\n",
              "  </tbody>\n",
              "</table>\n",
              "<p>4922 rows × 4 columns</p>\n",
              "</div>"
            ],
            "text/plain": [
              "     Datatype   TransactionID   OrderDate  TotalPrice\n",
              "0        THDR  CA-2017-152156  11/08/2017    993.9000\n",
              "1        THDR  CA-2017-138688  06/12/2017     14.6200\n",
              "2        THDR  US-2016-108966  10/11/2016    979.9455\n",
              "3        THDR  CA-2015-115812  06/09/2015   3714.3040\n",
              "4        THDR  CA-2018-114412  15/04/2018     15.5520\n",
              "...       ...             ...         ...         ...\n",
              "4917     THDR  US-2015-114377  11/05/2015    149.9000\n",
              "4918     THDR  CA-2018-144491  27/03/2018   1875.1280\n",
              "4919     THDR  CA-2015-127166  21/05/2015    186.9080\n",
              "4920     THDR  CA-2017-125920  21/05/2017      3.7980\n",
              "4921     THDR  CA-2016-128608  01/12/2016    282.3160\n",
              "\n",
              "[4922 rows x 4 columns]"
            ]
          },
          "metadata": {},
          "execution_count": 205
        }
      ]
    },
    {
      "cell_type": "markdown",
      "metadata": {
        "id": "VdpbjotqyOsp"
      },
      "source": [
        "Imenujemo novu tablicu s obzirom na podatak TITM iz 1. stupca polazne tablice.\n",
        "Ovdje nije potrebna intervencija stoga broj stupaca ostaje isti kao u polaznoj tablici.\n",
        "Svakom stupcu pridružit ćemo ispravna imena stupaca, pohraniti kao csv dokument te potom ispisati."
      ]
    },
    {
      "cell_type": "code",
      "metadata": {
        "id": "HsrI92MERB96"
      },
      "source": [
        "TITM= K['TITM']\n",
        "TITM.to_csv('TITM.csv', sep='|', header=[\"Datatype\", \"TransactionID\", \"ProductID\", \"ProductName\", \"SoldPrice\"], index=False)\n",
        "TITM1 = pd.read_csv(\"TITM.csv\",  sep='|')"
      ],
      "execution_count": null,
      "outputs": []
    },
    {
      "cell_type": "markdown",
      "metadata": {
        "id": "Ddwx7ppDyWc8"
      },
      "source": [
        "Pregledat ćemo rezultat TITM1:"
      ]
    },
    {
      "cell_type": "code",
      "metadata": {
        "colab": {
          "base_uri": "https://localhost:8080/",
          "height": 414
        },
        "id": "jKPxluQiycIR",
        "outputId": "59537b89-ef1f-4cca-8b51-0fc558f5f5dd"
      },
      "source": [
        "TITM1"
      ],
      "execution_count": null,
      "outputs": [
        {
          "output_type": "execute_result",
          "data": {
            "text/html": [
              "<div>\n",
              "<style scoped>\n",
              "    .dataframe tbody tr th:only-of-type {\n",
              "        vertical-align: middle;\n",
              "    }\n",
              "\n",
              "    .dataframe tbody tr th {\n",
              "        vertical-align: top;\n",
              "    }\n",
              "\n",
              "    .dataframe thead th {\n",
              "        text-align: right;\n",
              "    }\n",
              "</style>\n",
              "<table border=\"1\" class=\"dataframe\">\n",
              "  <thead>\n",
              "    <tr style=\"text-align: right;\">\n",
              "      <th></th>\n",
              "      <th>Datatype</th>\n",
              "      <th>TransactionID</th>\n",
              "      <th>ProductID</th>\n",
              "      <th>ProductName</th>\n",
              "      <th>SoldPrice</th>\n",
              "    </tr>\n",
              "  </thead>\n",
              "  <tbody>\n",
              "    <tr>\n",
              "      <th>0</th>\n",
              "      <td>TITM</td>\n",
              "      <td>CA-2017-152156</td>\n",
              "      <td>FUR-BO-10001798</td>\n",
              "      <td>Bush Somerset Collection Bookcase</td>\n",
              "      <td>261.9600</td>\n",
              "    </tr>\n",
              "    <tr>\n",
              "      <th>1</th>\n",
              "      <td>TITM</td>\n",
              "      <td>CA-2017-152156</td>\n",
              "      <td>FUR-CH-10000454</td>\n",
              "      <td>Hon Deluxe Fabric Upholstered Stacking Chairs,...</td>\n",
              "      <td>731.9400</td>\n",
              "    </tr>\n",
              "    <tr>\n",
              "      <th>2</th>\n",
              "      <td>TITM</td>\n",
              "      <td>CA-2017-138688</td>\n",
              "      <td>OFF-LA-10000240</td>\n",
              "      <td>Self-Adhesive Address Labels for Typewriters b...</td>\n",
              "      <td>14.6200</td>\n",
              "    </tr>\n",
              "    <tr>\n",
              "      <th>3</th>\n",
              "      <td>TITM</td>\n",
              "      <td>US-2016-108966</td>\n",
              "      <td>FUR-TA-10000577</td>\n",
              "      <td>Bretford CR4500 Series Slim Rectangular Table</td>\n",
              "      <td>957.5775</td>\n",
              "    </tr>\n",
              "    <tr>\n",
              "      <th>4</th>\n",
              "      <td>TITM</td>\n",
              "      <td>US-2016-108966</td>\n",
              "      <td>OFF-ST-10000760</td>\n",
              "      <td>Eldon Fold 'N Roll Cart System</td>\n",
              "      <td>22.3680</td>\n",
              "    </tr>\n",
              "    <tr>\n",
              "      <th>...</th>\n",
              "      <td>...</td>\n",
              "      <td>...</td>\n",
              "      <td>...</td>\n",
              "      <td>...</td>\n",
              "      <td>...</td>\n",
              "    </tr>\n",
              "    <tr>\n",
              "      <th>9795</th>\n",
              "      <td>TITM</td>\n",
              "      <td>CA-2017-125920</td>\n",
              "      <td>OFF-BI-10003429</td>\n",
              "      <td>Cardinal HOLDit! Binder Insert Strips,Extra St...</td>\n",
              "      <td>3.7980</td>\n",
              "    </tr>\n",
              "    <tr>\n",
              "      <th>9796</th>\n",
              "      <td>TITM</td>\n",
              "      <td>CA-2016-128608</td>\n",
              "      <td>OFF-AR-10001374</td>\n",
              "      <td>BIC Brite Liner Highlighters, Chisel Tip</td>\n",
              "      <td>10.3680</td>\n",
              "    </tr>\n",
              "    <tr>\n",
              "      <th>9797</th>\n",
              "      <td>TITM</td>\n",
              "      <td>CA-2016-128608</td>\n",
              "      <td>TEC-PH-10004977</td>\n",
              "      <td>GE 30524EE4</td>\n",
              "      <td>235.1880</td>\n",
              "    </tr>\n",
              "    <tr>\n",
              "      <th>9798</th>\n",
              "      <td>TITM</td>\n",
              "      <td>CA-2016-128608</td>\n",
              "      <td>TEC-PH-10000912</td>\n",
              "      <td>Anker 24W Portable Micro USB Car Charger</td>\n",
              "      <td>26.3760</td>\n",
              "    </tr>\n",
              "    <tr>\n",
              "      <th>9799</th>\n",
              "      <td>TITM</td>\n",
              "      <td>CA-2016-128608</td>\n",
              "      <td>TEC-AC-10000487</td>\n",
              "      <td>SanDisk Cruzer 4 GB USB Flash Drive</td>\n",
              "      <td>10.3840</td>\n",
              "    </tr>\n",
              "  </tbody>\n",
              "</table>\n",
              "<p>9800 rows × 5 columns</p>\n",
              "</div>"
            ],
            "text/plain": [
              "     Datatype  ... SoldPrice\n",
              "0        TITM  ...  261.9600\n",
              "1        TITM  ...  731.9400\n",
              "2        TITM  ...   14.6200\n",
              "3        TITM  ...  957.5775\n",
              "4        TITM  ...   22.3680\n",
              "...       ...  ...       ...\n",
              "9795     TITM  ...    3.7980\n",
              "9796     TITM  ...   10.3680\n",
              "9797     TITM  ...  235.1880\n",
              "9798     TITM  ...   26.3760\n",
              "9799     TITM  ...   10.3840\n",
              "\n",
              "[9800 rows x 5 columns]"
            ]
          },
          "metadata": {},
          "execution_count": 207
        }
      ]
    },
    {
      "cell_type": "markdown",
      "metadata": {
        "id": "QXyVRbxQyiTJ"
      },
      "source": [
        "Imenujemo novu tablicu s obzirom na podatak PCTL iz 1. stupca polazne tablice.\n",
        "Ovdje nije potrebna intervencija stoga broj stupaca ostaje isti kao u polaznoj tablici.\n",
        "Svakom stupcu pridružit ćemo ispravna imena stupaca, pohraniti kao csv dokument te potom ispisati.\n"
      ]
    },
    {
      "cell_type": "code",
      "metadata": {
        "id": "rFYH5QWsRwmh"
      },
      "source": [
        "PCTL= K['PCTL']\n",
        "PCTL.to_csv('PCTL.csv', sep='|', header=[\"Datatype\", \"ProductID\", \"Category\", \"Subcategory\", \"ProductName\"], index=False)\n",
        "PCTL1 = pd.read_csv(\"PCTL.csv\",  sep='|')"
      ],
      "execution_count": null,
      "outputs": []
    },
    {
      "cell_type": "markdown",
      "metadata": {
        "id": "K0ixXGKuyqIz"
      },
      "source": [
        "Pregledat ćemo rezultat PCTL1:"
      ]
    },
    {
      "cell_type": "code",
      "metadata": {
        "colab": {
          "base_uri": "https://localhost:8080/",
          "height": 414
        },
        "id": "Uu4CGOvuyuf0",
        "outputId": "b01c4a8c-623e-4e1c-9e3f-780bf287a4a9"
      },
      "source": [
        "PCTL1"
      ],
      "execution_count": null,
      "outputs": [
        {
          "output_type": "execute_result",
          "data": {
            "text/html": [
              "<div>\n",
              "<style scoped>\n",
              "    .dataframe tbody tr th:only-of-type {\n",
              "        vertical-align: middle;\n",
              "    }\n",
              "\n",
              "    .dataframe tbody tr th {\n",
              "        vertical-align: top;\n",
              "    }\n",
              "\n",
              "    .dataframe thead th {\n",
              "        text-align: right;\n",
              "    }\n",
              "</style>\n",
              "<table border=\"1\" class=\"dataframe\">\n",
              "  <thead>\n",
              "    <tr style=\"text-align: right;\">\n",
              "      <th></th>\n",
              "      <th>Datatype</th>\n",
              "      <th>ProductID</th>\n",
              "      <th>Category</th>\n",
              "      <th>Subcategory</th>\n",
              "      <th>ProductName</th>\n",
              "    </tr>\n",
              "  </thead>\n",
              "  <tbody>\n",
              "    <tr>\n",
              "      <th>0</th>\n",
              "      <td>PCTL</td>\n",
              "      <td>FUR-BO-10001798</td>\n",
              "      <td>Furniture</td>\n",
              "      <td>Bookcases</td>\n",
              "      <td>Bush Somerset Collection Bookcase</td>\n",
              "    </tr>\n",
              "    <tr>\n",
              "      <th>1</th>\n",
              "      <td>PCTL</td>\n",
              "      <td>FUR-CH-10000454</td>\n",
              "      <td>Furniture</td>\n",
              "      <td>Chairs</td>\n",
              "      <td>Hon Deluxe Fabric Upholstered Stacking Chairs,...</td>\n",
              "    </tr>\n",
              "    <tr>\n",
              "      <th>2</th>\n",
              "      <td>PCTL</td>\n",
              "      <td>OFF-LA-10000240</td>\n",
              "      <td>Office Supplies</td>\n",
              "      <td>Labels</td>\n",
              "      <td>Self-Adhesive Address Labels for Typewriters b...</td>\n",
              "    </tr>\n",
              "    <tr>\n",
              "      <th>3</th>\n",
              "      <td>PCTL</td>\n",
              "      <td>FUR-TA-10000577</td>\n",
              "      <td>Furniture</td>\n",
              "      <td>Tables</td>\n",
              "      <td>Bretford CR4500 Series Slim Rectangular Table</td>\n",
              "    </tr>\n",
              "    <tr>\n",
              "      <th>4</th>\n",
              "      <td>PCTL</td>\n",
              "      <td>OFF-ST-10000760</td>\n",
              "      <td>Office Supplies</td>\n",
              "      <td>Storage</td>\n",
              "      <td>Eldon Fold 'N Roll Cart System</td>\n",
              "    </tr>\n",
              "    <tr>\n",
              "      <th>...</th>\n",
              "      <td>...</td>\n",
              "      <td>...</td>\n",
              "      <td>...</td>\n",
              "      <td>...</td>\n",
              "      <td>...</td>\n",
              "    </tr>\n",
              "    <tr>\n",
              "      <th>1889</th>\n",
              "      <td>PCTL</td>\n",
              "      <td>TEC-AC-10002380</td>\n",
              "      <td>Technology</td>\n",
              "      <td>Accessories</td>\n",
              "      <td>Sony 8GB Class 10 Micro SDHC R40 Memory Card</td>\n",
              "    </tr>\n",
              "    <tr>\n",
              "      <th>1890</th>\n",
              "      <td>PCTL</td>\n",
              "      <td>TEC-PH-10002817</td>\n",
              "      <td>Technology</td>\n",
              "      <td>Phones</td>\n",
              "      <td>RCA ViSYS 25425RE1 Corded phone</td>\n",
              "    </tr>\n",
              "    <tr>\n",
              "      <th>1891</th>\n",
              "      <td>PCTL</td>\n",
              "      <td>TEC-MA-10003589</td>\n",
              "      <td>Technology</td>\n",
              "      <td>Machines</td>\n",
              "      <td>Cisco 8961 IP Phone Charcoal</td>\n",
              "    </tr>\n",
              "    <tr>\n",
              "      <th>1892</th>\n",
              "      <td>PCTL</td>\n",
              "      <td>OFF-AP-10003099</td>\n",
              "      <td>Office Supplies</td>\n",
              "      <td>Appliances</td>\n",
              "      <td>Eureka Hand Vacuum, Bagless</td>\n",
              "    </tr>\n",
              "    <tr>\n",
              "      <th>1893</th>\n",
              "      <td>PCTL</td>\n",
              "      <td>TEC-PH-10002645</td>\n",
              "      <td>Technology</td>\n",
              "      <td>Phones</td>\n",
              "      <td>LG G2</td>\n",
              "    </tr>\n",
              "  </tbody>\n",
              "</table>\n",
              "<p>1894 rows × 5 columns</p>\n",
              "</div>"
            ],
            "text/plain": [
              "     Datatype  ...                                        ProductName\n",
              "0        PCTL  ...                  Bush Somerset Collection Bookcase\n",
              "1        PCTL  ...  Hon Deluxe Fabric Upholstered Stacking Chairs,...\n",
              "2        PCTL  ...  Self-Adhesive Address Labels for Typewriters b...\n",
              "3        PCTL  ...      Bretford CR4500 Series Slim Rectangular Table\n",
              "4        PCTL  ...                     Eldon Fold 'N Roll Cart System\n",
              "...       ...  ...                                                ...\n",
              "1889     PCTL  ...       Sony 8GB Class 10 Micro SDHC R40 Memory Card\n",
              "1890     PCTL  ...                    RCA ViSYS 25425RE1 Corded phone\n",
              "1891     PCTL  ...                       Cisco 8961 IP Phone Charcoal\n",
              "1892     PCTL  ...                        Eureka Hand Vacuum, Bagless\n",
              "1893     PCTL  ...                                              LG G2\n",
              "\n",
              "[1894 rows x 5 columns]"
            ]
          },
          "metadata": {},
          "execution_count": 197
        }
      ]
    },
    {
      "cell_type": "markdown",
      "metadata": {
        "id": "g26iVMnF3CRk"
      },
      "source": [
        "\n",
        "Postigli smo da su sve tri tablice pravilo odijeljene te pohranjene u zasebene csv datoteke."
      ]
    }
  ]
}